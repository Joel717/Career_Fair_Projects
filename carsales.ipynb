{
 "cells": [
  {
   "cell_type": "code",
   "execution_count": 226,
   "metadata": {},
   "outputs": [],
   "source": [
    "import pandas as pd \n",
    "import json"
   ]
  },
  {
   "cell_type": "code",
   "execution_count": 227,
   "metadata": {},
   "outputs": [],
   "source": [
    "df1=pd.read_excel('bangalore_cars.xlsx')\n",
    "df2=pd.read_excel('chennai_cars.xlsx')\n",
    "df3=pd.read_excel('delhi_cars.xlsx')\n",
    "df4=pd.read_excel('hyderabad_cars.xlsx')\n",
    "df5=pd.read_excel('jaipur_cars.xlsx')\n",
    "df6=pd.read_excel('kolkata_cars.xlsx')"
   ]
  },
  {
   "cell_type": "code",
   "execution_count": 228,
   "metadata": {},
   "outputs": [],
   "source": [
    "df=pd.concat([df1,df2,df3,df4,df5,df6],axis=0)"
   ]
  },
  {
   "cell_type": "code",
   "execution_count": 229,
   "metadata": {},
   "outputs": [
    {
     "data": {
      "text/html": [
       "<div>\n",
       "<style scoped>\n",
       "    .dataframe tbody tr th:only-of-type {\n",
       "        vertical-align: middle;\n",
       "    }\n",
       "\n",
       "    .dataframe tbody tr th {\n",
       "        vertical-align: top;\n",
       "    }\n",
       "\n",
       "    .dataframe thead th {\n",
       "        text-align: right;\n",
       "    }\n",
       "</style>\n",
       "<table border=\"1\" class=\"dataframe\">\n",
       "  <thead>\n",
       "    <tr style=\"text-align: right;\">\n",
       "      <th></th>\n",
       "      <th>new_car_detail</th>\n",
       "      <th>new_car_overview</th>\n",
       "      <th>new_car_feature</th>\n",
       "      <th>new_car_specs</th>\n",
       "      <th>car_links</th>\n",
       "    </tr>\n",
       "  </thead>\n",
       "  <tbody>\n",
       "    <tr>\n",
       "      <th>0</th>\n",
       "      <td>{'it': 0, 'ft': 'Petrol', 'bt': 'Hatchback', '...</td>\n",
       "      <td>{'heading': 'Car overview', 'top': [{'key': 'R...</td>\n",
       "      <td>{'heading': 'Features', 'top': [{'value': 'Pow...</td>\n",
       "      <td>{'heading': 'Specifications', 'top': [{'key': ...</td>\n",
       "      <td>https://www.cardekho.com/used-car-details/used...</td>\n",
       "    </tr>\n",
       "    <tr>\n",
       "      <th>1</th>\n",
       "      <td>{'it': 0, 'ft': 'Petrol', 'bt': 'SUV', 'km': '...</td>\n",
       "      <td>{'heading': 'Car overview', 'top': [{'key': 'R...</td>\n",
       "      <td>{'heading': 'Features', 'top': [{'value': 'Pow...</td>\n",
       "      <td>{'heading': 'Specifications', 'top': [{'key': ...</td>\n",
       "      <td>https://www.cardekho.com/buy-used-car-details/...</td>\n",
       "    </tr>\n",
       "    <tr>\n",
       "      <th>2</th>\n",
       "      <td>{'it': 0, 'ft': 'Petrol', 'bt': 'Hatchback', '...</td>\n",
       "      <td>{'heading': 'Car overview', 'top': [{'key': 'R...</td>\n",
       "      <td>{'heading': 'Features', 'top': [{'value': 'Pow...</td>\n",
       "      <td>{'heading': 'Specifications', 'top': [{'key': ...</td>\n",
       "      <td>https://www.cardekho.com/used-car-details/used...</td>\n",
       "    </tr>\n",
       "    <tr>\n",
       "      <th>3</th>\n",
       "      <td>{'it': 0, 'ft': 'Petrol', 'bt': 'Sedan', 'km':...</td>\n",
       "      <td>{'heading': 'Car overview', 'top': [{'key': 'R...</td>\n",
       "      <td>{'heading': 'Features', 'top': [{'value': 'Pow...</td>\n",
       "      <td>{'heading': 'Specifications', 'top': [{'key': ...</td>\n",
       "      <td>https://www.cardekho.com/buy-used-car-details/...</td>\n",
       "    </tr>\n",
       "    <tr>\n",
       "      <th>4</th>\n",
       "      <td>{'it': 0, 'ft': 'Diesel', 'bt': 'SUV', 'km': '...</td>\n",
       "      <td>{'heading': 'Car overview', 'top': [{'key': 'R...</td>\n",
       "      <td>{'heading': 'Features', 'top': [{'value': 'Pow...</td>\n",
       "      <td>{'heading': 'Specifications', 'top': [{'key': ...</td>\n",
       "      <td>https://www.cardekho.com/used-car-details/used...</td>\n",
       "    </tr>\n",
       "    <tr>\n",
       "      <th>...</th>\n",
       "      <td>...</td>\n",
       "      <td>...</td>\n",
       "      <td>...</td>\n",
       "      <td>...</td>\n",
       "      <td>...</td>\n",
       "    </tr>\n",
       "    <tr>\n",
       "      <th>1376</th>\n",
       "      <td>{'it': 0, 'ft': 'Petrol', 'bt': 'Hatchback', '...</td>\n",
       "      <td>{'heading': 'Car overview', 'top': [{'key': 'R...</td>\n",
       "      <td>{'heading': 'Features', 'top': [{'value': 'Pow...</td>\n",
       "      <td>{'heading': 'Specifications', 'top': [{'key': ...</td>\n",
       "      <td>https://www.cardekho.com/used-car-details/used...</td>\n",
       "    </tr>\n",
       "    <tr>\n",
       "      <th>1377</th>\n",
       "      <td>{'it': 0, 'ft': 'Petrol', 'bt': 'Hatchback', '...</td>\n",
       "      <td>{'heading': 'Car overview', 'top': [{'key': 'R...</td>\n",
       "      <td>{'heading': 'Features', 'top': [{'value': 'Pow...</td>\n",
       "      <td>{'heading': 'Specifications', 'top': [{'key': ...</td>\n",
       "      <td>https://www.cardekho.com/used-car-details/used...</td>\n",
       "    </tr>\n",
       "    <tr>\n",
       "      <th>1378</th>\n",
       "      <td>{'it': 0, 'ft': 'Petrol', 'bt': 'Sedan', 'km':...</td>\n",
       "      <td>{'heading': 'Car overview', 'top': [{'key': 'R...</td>\n",
       "      <td>{'heading': 'Features', 'top': [{'value': 'Pow...</td>\n",
       "      <td>{'heading': 'Specifications', 'top': [{'key': ...</td>\n",
       "      <td>https://www.cardekho.com/used-car-details/used...</td>\n",
       "    </tr>\n",
       "    <tr>\n",
       "      <th>1379</th>\n",
       "      <td>{'it': 0, 'ft': 'Petrol', 'bt': 'Hatchback', '...</td>\n",
       "      <td>{'heading': 'Car overview', 'top': [{'key': 'R...</td>\n",
       "      <td>{'heading': 'Features', 'top': [{'value': 'Pow...</td>\n",
       "      <td>{'heading': 'Specifications', 'top': [{'key': ...</td>\n",
       "      <td>https://www.cardekho.com/used-car-details/used...</td>\n",
       "    </tr>\n",
       "    <tr>\n",
       "      <th>1380</th>\n",
       "      <td>{'it': 0, 'ft': 'Diesel', 'bt': 'SUV', 'km': '...</td>\n",
       "      <td>{'heading': 'Car overview', 'top': [{'key': 'R...</td>\n",
       "      <td>{'heading': 'Features', 'top': [{'value': 'Pow...</td>\n",
       "      <td>{'heading': 'Specifications', 'top': [{'key': ...</td>\n",
       "      <td>https://www.cardekho.com/used-car-details/used...</td>\n",
       "    </tr>\n",
       "  </tbody>\n",
       "</table>\n",
       "<p>8369 rows × 5 columns</p>\n",
       "</div>"
      ],
      "text/plain": [
       "                                         new_car_detail  \\\n",
       "0     {'it': 0, 'ft': 'Petrol', 'bt': 'Hatchback', '...   \n",
       "1     {'it': 0, 'ft': 'Petrol', 'bt': 'SUV', 'km': '...   \n",
       "2     {'it': 0, 'ft': 'Petrol', 'bt': 'Hatchback', '...   \n",
       "3     {'it': 0, 'ft': 'Petrol', 'bt': 'Sedan', 'km':...   \n",
       "4     {'it': 0, 'ft': 'Diesel', 'bt': 'SUV', 'km': '...   \n",
       "...                                                 ...   \n",
       "1376  {'it': 0, 'ft': 'Petrol', 'bt': 'Hatchback', '...   \n",
       "1377  {'it': 0, 'ft': 'Petrol', 'bt': 'Hatchback', '...   \n",
       "1378  {'it': 0, 'ft': 'Petrol', 'bt': 'Sedan', 'km':...   \n",
       "1379  {'it': 0, 'ft': 'Petrol', 'bt': 'Hatchback', '...   \n",
       "1380  {'it': 0, 'ft': 'Diesel', 'bt': 'SUV', 'km': '...   \n",
       "\n",
       "                                       new_car_overview  \\\n",
       "0     {'heading': 'Car overview', 'top': [{'key': 'R...   \n",
       "1     {'heading': 'Car overview', 'top': [{'key': 'R...   \n",
       "2     {'heading': 'Car overview', 'top': [{'key': 'R...   \n",
       "3     {'heading': 'Car overview', 'top': [{'key': 'R...   \n",
       "4     {'heading': 'Car overview', 'top': [{'key': 'R...   \n",
       "...                                                 ...   \n",
       "1376  {'heading': 'Car overview', 'top': [{'key': 'R...   \n",
       "1377  {'heading': 'Car overview', 'top': [{'key': 'R...   \n",
       "1378  {'heading': 'Car overview', 'top': [{'key': 'R...   \n",
       "1379  {'heading': 'Car overview', 'top': [{'key': 'R...   \n",
       "1380  {'heading': 'Car overview', 'top': [{'key': 'R...   \n",
       "\n",
       "                                        new_car_feature  \\\n",
       "0     {'heading': 'Features', 'top': [{'value': 'Pow...   \n",
       "1     {'heading': 'Features', 'top': [{'value': 'Pow...   \n",
       "2     {'heading': 'Features', 'top': [{'value': 'Pow...   \n",
       "3     {'heading': 'Features', 'top': [{'value': 'Pow...   \n",
       "4     {'heading': 'Features', 'top': [{'value': 'Pow...   \n",
       "...                                                 ...   \n",
       "1376  {'heading': 'Features', 'top': [{'value': 'Pow...   \n",
       "1377  {'heading': 'Features', 'top': [{'value': 'Pow...   \n",
       "1378  {'heading': 'Features', 'top': [{'value': 'Pow...   \n",
       "1379  {'heading': 'Features', 'top': [{'value': 'Pow...   \n",
       "1380  {'heading': 'Features', 'top': [{'value': 'Pow...   \n",
       "\n",
       "                                          new_car_specs  \\\n",
       "0     {'heading': 'Specifications', 'top': [{'key': ...   \n",
       "1     {'heading': 'Specifications', 'top': [{'key': ...   \n",
       "2     {'heading': 'Specifications', 'top': [{'key': ...   \n",
       "3     {'heading': 'Specifications', 'top': [{'key': ...   \n",
       "4     {'heading': 'Specifications', 'top': [{'key': ...   \n",
       "...                                                 ...   \n",
       "1376  {'heading': 'Specifications', 'top': [{'key': ...   \n",
       "1377  {'heading': 'Specifications', 'top': [{'key': ...   \n",
       "1378  {'heading': 'Specifications', 'top': [{'key': ...   \n",
       "1379  {'heading': 'Specifications', 'top': [{'key': ...   \n",
       "1380  {'heading': 'Specifications', 'top': [{'key': ...   \n",
       "\n",
       "                                              car_links  \n",
       "0     https://www.cardekho.com/used-car-details/used...  \n",
       "1     https://www.cardekho.com/buy-used-car-details/...  \n",
       "2     https://www.cardekho.com/used-car-details/used...  \n",
       "3     https://www.cardekho.com/buy-used-car-details/...  \n",
       "4     https://www.cardekho.com/used-car-details/used...  \n",
       "...                                                 ...  \n",
       "1376  https://www.cardekho.com/used-car-details/used...  \n",
       "1377  https://www.cardekho.com/used-car-details/used...  \n",
       "1378  https://www.cardekho.com/used-car-details/used...  \n",
       "1379  https://www.cardekho.com/used-car-details/used...  \n",
       "1380  https://www.cardekho.com/used-car-details/used...  \n",
       "\n",
       "[8369 rows x 5 columns]"
      ]
     },
     "execution_count": 229,
     "metadata": {},
     "output_type": "execute_result"
    }
   ],
   "source": [
    "df"
   ]
  },
  {
   "cell_type": "code",
   "execution_count": 230,
   "metadata": {},
   "outputs": [],
   "source": [
    "df=df.drop(columns='car_links')"
   ]
  },
  {
   "cell_type": "code",
   "execution_count": 231,
   "metadata": {},
   "outputs": [
    {
     "name": "stdout",
     "output_type": "stream",
     "text": [
      "<class 'pandas.core.frame.DataFrame'>\n",
      "Index: 8369 entries, 0 to 1380\n",
      "Data columns (total 4 columns):\n",
      " #   Column            Non-Null Count  Dtype \n",
      "---  ------            --------------  ----- \n",
      " 0   new_car_detail    8369 non-null   object\n",
      " 1   new_car_overview  8369 non-null   object\n",
      " 2   new_car_feature   8369 non-null   object\n",
      " 3   new_car_specs     8369 non-null   object\n",
      "dtypes: object(4)\n",
      "memory usage: 326.9+ KB\n"
     ]
    }
   ],
   "source": [
    "df.info()"
   ]
  },
  {
   "cell_type": "code",
   "execution_count": 232,
   "metadata": {},
   "outputs": [],
   "source": [
    "replacement_dict = {\"'\": \"\\\"\", \"None\": \"null\"}"
   ]
  },
  {
   "cell_type": "code",
   "execution_count": 233,
   "metadata": {},
   "outputs": [],
   "source": [
    "df['new_car_detail']=df['new_car_detail'].apply(lambda x: json.loads(x.replace(\"'\", \"\\\"\").replace(\"None\", \"null\")))\n",
    "df['new_car_overview']=df['new_car_overview'].apply(lambda x: json.loads(x.replace(\"'\", \"\\\"\").replace(\"None\", \"null\")))\n",
    "df['new_car_feature']=df['new_car_feature'].apply(lambda x: json.loads(x.replace(\"'\", \"\\\"\").replace(\"None\", \"null\")))\n",
    "df['new_car_specs']=df['new_car_specs'].apply(lambda x: json.loads(x.replace(\"'\", \"\\\"\").replace(\"None\", \"null\")))"
   ]
  },
  {
   "cell_type": "code",
   "execution_count": 234,
   "metadata": {},
   "outputs": [],
   "source": [
    "n1 = pd.json_normalize(df['new_car_detail'])\n",
    "n2= pd.json_normalize(df['new_car_overview'])\n",
    "n3= pd.json_normalize(df['new_car_feature'])\n",
    "n4= pd.json_normalize(df['new_car_specs'])"
   ]
  },
  {
   "cell_type": "code",
   "execution_count": 235,
   "metadata": {},
   "outputs": [
    {
     "name": "stdout",
     "output_type": "stream",
     "text": [
      "<class 'pandas.core.frame.DataFrame'>\n",
      "RangeIndex: 8369 entries, 0 to 8368\n",
      "Data columns (total 19 columns):\n",
      " #   Column                Non-Null Count  Dtype \n",
      "---  ------                --------------  ----- \n",
      " 0   it                    8369 non-null   int64 \n",
      " 1   ft                    8369 non-null   object\n",
      " 2   bt                    8369 non-null   object\n",
      " 3   km                    8369 non-null   object\n",
      " 4   transmission          8369 non-null   object\n",
      " 5   ownerNo               8369 non-null   int64 \n",
      " 6   owner                 8369 non-null   object\n",
      " 7   oem                   8369 non-null   object\n",
      " 8   model                 8369 non-null   object\n",
      " 9   modelYear             8369 non-null   int64 \n",
      " 10  centralVariantId      8369 non-null   int64 \n",
      " 11  variantName           8369 non-null   object\n",
      " 12  price                 8369 non-null   object\n",
      " 13  priceActual           8369 non-null   object\n",
      " 14  priceSaving           8369 non-null   object\n",
      " 15  priceFixedText        0 non-null      object\n",
      " 16  trendingText.imgUrl   8369 non-null   object\n",
      " 17  trendingText.heading  8369 non-null   object\n",
      " 18  trendingText.desc     8369 non-null   object\n",
      "dtypes: int64(4), object(15)\n",
      "memory usage: 1.2+ MB\n"
     ]
    }
   ],
   "source": [
    "n1.info()"
   ]
  },
  {
   "cell_type": "code",
   "execution_count": 236,
   "metadata": {},
   "outputs": [],
   "source": [
    "n1=n1.rename(columns={'ft':'fuel_type','bt':'style'})"
   ]
  },
  {
   "cell_type": "code",
   "execution_count": 237,
   "metadata": {},
   "outputs": [],
   "source": [
    "n1=n1.drop_duplicates()"
   ]
  },
  {
   "cell_type": "code",
   "execution_count": 238,
   "metadata": {},
   "outputs": [
    {
     "name": "stdout",
     "output_type": "stream",
     "text": [
      "<class 'pandas.core.frame.DataFrame'>\n",
      "Index: 8244 entries, 0 to 8368\n",
      "Data columns (total 19 columns):\n",
      " #   Column                Non-Null Count  Dtype \n",
      "---  ------                --------------  ----- \n",
      " 0   it                    8244 non-null   int64 \n",
      " 1   fuel_type             8244 non-null   object\n",
      " 2   style                 8244 non-null   object\n",
      " 3   km                    8244 non-null   object\n",
      " 4   transmission          8244 non-null   object\n",
      " 5   ownerNo               8244 non-null   int64 \n",
      " 6   owner                 8244 non-null   object\n",
      " 7   oem                   8244 non-null   object\n",
      " 8   model                 8244 non-null   object\n",
      " 9   modelYear             8244 non-null   int64 \n",
      " 10  centralVariantId      8244 non-null   int64 \n",
      " 11  variantName           8244 non-null   object\n",
      " 12  price                 8244 non-null   object\n",
      " 13  priceActual           8244 non-null   object\n",
      " 14  priceSaving           8244 non-null   object\n",
      " 15  priceFixedText        0 non-null      object\n",
      " 16  trendingText.imgUrl   8244 non-null   object\n",
      " 17  trendingText.heading  8244 non-null   object\n",
      " 18  trendingText.desc     8244 non-null   object\n",
      "dtypes: int64(4), object(15)\n",
      "memory usage: 1.3+ MB\n"
     ]
    }
   ],
   "source": [
    "n1.info()"
   ]
  },
  {
   "cell_type": "code",
   "execution_count": 239,
   "metadata": {},
   "outputs": [],
   "source": [
    "dfc=n1[['fuel_type','style','km','transmission','ownerNo','oem','model','modelYear','centralVariantId','price']]"
   ]
  },
  {
   "cell_type": "code",
   "execution_count": 240,
   "metadata": {},
   "outputs": [
    {
     "data": {
      "text/html": [
       "<div>\n",
       "<style scoped>\n",
       "    .dataframe tbody tr th:only-of-type {\n",
       "        vertical-align: middle;\n",
       "    }\n",
       "\n",
       "    .dataframe tbody tr th {\n",
       "        vertical-align: top;\n",
       "    }\n",
       "\n",
       "    .dataframe thead th {\n",
       "        text-align: right;\n",
       "    }\n",
       "</style>\n",
       "<table border=\"1\" class=\"dataframe\">\n",
       "  <thead>\n",
       "    <tr style=\"text-align: right;\">\n",
       "      <th></th>\n",
       "      <th>fuel_type</th>\n",
       "      <th>style</th>\n",
       "      <th>km</th>\n",
       "      <th>transmission</th>\n",
       "      <th>ownerNo</th>\n",
       "      <th>oem</th>\n",
       "      <th>model</th>\n",
       "      <th>modelYear</th>\n",
       "      <th>centralVariantId</th>\n",
       "      <th>price</th>\n",
       "    </tr>\n",
       "  </thead>\n",
       "  <tbody>\n",
       "    <tr>\n",
       "      <th>0</th>\n",
       "      <td>Petrol</td>\n",
       "      <td>Hatchback</td>\n",
       "      <td>1,20,000</td>\n",
       "      <td>Manual</td>\n",
       "      <td>3</td>\n",
       "      <td>Maruti</td>\n",
       "      <td>Maruti Celerio</td>\n",
       "      <td>2015</td>\n",
       "      <td>3979</td>\n",
       "      <td>₹ 4 Lakh</td>\n",
       "    </tr>\n",
       "    <tr>\n",
       "      <th>1</th>\n",
       "      <td>Petrol</td>\n",
       "      <td>SUV</td>\n",
       "      <td>32,706</td>\n",
       "      <td>Manual</td>\n",
       "      <td>2</td>\n",
       "      <td>Ford</td>\n",
       "      <td>Ford Ecosport</td>\n",
       "      <td>2018</td>\n",
       "      <td>6087</td>\n",
       "      <td>₹ 8.11 Lakh</td>\n",
       "    </tr>\n",
       "    <tr>\n",
       "      <th>2</th>\n",
       "      <td>Petrol</td>\n",
       "      <td>Hatchback</td>\n",
       "      <td>11,949</td>\n",
       "      <td>Manual</td>\n",
       "      <td>1</td>\n",
       "      <td>Tata</td>\n",
       "      <td>Tata Tiago</td>\n",
       "      <td>2018</td>\n",
       "      <td>2983</td>\n",
       "      <td>₹ 5.85 Lakh</td>\n",
       "    </tr>\n",
       "    <tr>\n",
       "      <th>3</th>\n",
       "      <td>Petrol</td>\n",
       "      <td>Sedan</td>\n",
       "      <td>17,794</td>\n",
       "      <td>Manual</td>\n",
       "      <td>1</td>\n",
       "      <td>Hyundai</td>\n",
       "      <td>Hyundai Xcent</td>\n",
       "      <td>2014</td>\n",
       "      <td>1867</td>\n",
       "      <td>₹ 4.62 Lakh</td>\n",
       "    </tr>\n",
       "    <tr>\n",
       "      <th>4</th>\n",
       "      <td>Diesel</td>\n",
       "      <td>SUV</td>\n",
       "      <td>60,000</td>\n",
       "      <td>Manual</td>\n",
       "      <td>1</td>\n",
       "      <td>Maruti</td>\n",
       "      <td>Maruti SX4 S Cross</td>\n",
       "      <td>2015</td>\n",
       "      <td>4277</td>\n",
       "      <td>₹ 7.90 Lakh</td>\n",
       "    </tr>\n",
       "    <tr>\n",
       "      <th>...</th>\n",
       "      <td>...</td>\n",
       "      <td>...</td>\n",
       "      <td>...</td>\n",
       "      <td>...</td>\n",
       "      <td>...</td>\n",
       "      <td>...</td>\n",
       "      <td>...</td>\n",
       "      <td>...</td>\n",
       "      <td>...</td>\n",
       "      <td>...</td>\n",
       "    </tr>\n",
       "    <tr>\n",
       "      <th>8364</th>\n",
       "      <td>Petrol</td>\n",
       "      <td>Hatchback</td>\n",
       "      <td>10,000</td>\n",
       "      <td>Manual</td>\n",
       "      <td>1</td>\n",
       "      <td>Maruti</td>\n",
       "      <td>Maruti Celerio</td>\n",
       "      <td>2022</td>\n",
       "      <td>8682</td>\n",
       "      <td>₹ 5.10 Lakh</td>\n",
       "    </tr>\n",
       "    <tr>\n",
       "      <th>8365</th>\n",
       "      <td>Petrol</td>\n",
       "      <td>Hatchback</td>\n",
       "      <td>1,20,000</td>\n",
       "      <td>Manual</td>\n",
       "      <td>1</td>\n",
       "      <td>Maruti</td>\n",
       "      <td>Maruti Alto 800</td>\n",
       "      <td>2014</td>\n",
       "      <td>3943</td>\n",
       "      <td>₹ 1.80 Lakh</td>\n",
       "    </tr>\n",
       "    <tr>\n",
       "      <th>8366</th>\n",
       "      <td>Petrol</td>\n",
       "      <td>Sedan</td>\n",
       "      <td>50,000</td>\n",
       "      <td>Automatic</td>\n",
       "      <td>3</td>\n",
       "      <td>Mercedes-Benz</td>\n",
       "      <td>Mercedes-Benz C-Class</td>\n",
       "      <td>2011</td>\n",
       "      <td>4672</td>\n",
       "      <td>₹ 5.50 Lakh</td>\n",
       "    </tr>\n",
       "    <tr>\n",
       "      <th>8367</th>\n",
       "      <td>Petrol</td>\n",
       "      <td>Hatchback</td>\n",
       "      <td>40,000</td>\n",
       "      <td>Manual</td>\n",
       "      <td>1</td>\n",
       "      <td>Maruti</td>\n",
       "      <td>Maruti Ritz</td>\n",
       "      <td>2012</td>\n",
       "      <td>4144</td>\n",
       "      <td>₹ 1.40 Lakh</td>\n",
       "    </tr>\n",
       "    <tr>\n",
       "      <th>8368</th>\n",
       "      <td>Diesel</td>\n",
       "      <td>SUV</td>\n",
       "      <td>1,20,000</td>\n",
       "      <td>Manual</td>\n",
       "      <td>2</td>\n",
       "      <td>Renault</td>\n",
       "      <td>Renault Duster</td>\n",
       "      <td>2017</td>\n",
       "      <td>5048</td>\n",
       "      <td>₹ 5 Lakh</td>\n",
       "    </tr>\n",
       "  </tbody>\n",
       "</table>\n",
       "<p>8244 rows × 10 columns</p>\n",
       "</div>"
      ],
      "text/plain": [
       "     fuel_type      style        km transmission  ownerNo            oem  \\\n",
       "0       Petrol  Hatchback  1,20,000       Manual        3         Maruti   \n",
       "1       Petrol        SUV    32,706       Manual        2           Ford   \n",
       "2       Petrol  Hatchback    11,949       Manual        1           Tata   \n",
       "3       Petrol      Sedan    17,794       Manual        1        Hyundai   \n",
       "4       Diesel        SUV    60,000       Manual        1         Maruti   \n",
       "...        ...        ...       ...          ...      ...            ...   \n",
       "8364    Petrol  Hatchback    10,000       Manual        1         Maruti   \n",
       "8365    Petrol  Hatchback  1,20,000       Manual        1         Maruti   \n",
       "8366    Petrol      Sedan    50,000    Automatic        3  Mercedes-Benz   \n",
       "8367    Petrol  Hatchback    40,000       Manual        1         Maruti   \n",
       "8368    Diesel        SUV  1,20,000       Manual        2        Renault   \n",
       "\n",
       "                      model  modelYear  centralVariantId        price  \n",
       "0            Maruti Celerio       2015              3979     ₹ 4 Lakh  \n",
       "1             Ford Ecosport       2018              6087  ₹ 8.11 Lakh  \n",
       "2                Tata Tiago       2018              2983  ₹ 5.85 Lakh  \n",
       "3             Hyundai Xcent       2014              1867  ₹ 4.62 Lakh  \n",
       "4        Maruti SX4 S Cross       2015              4277  ₹ 7.90 Lakh  \n",
       "...                     ...        ...               ...          ...  \n",
       "8364         Maruti Celerio       2022              8682  ₹ 5.10 Lakh  \n",
       "8365        Maruti Alto 800       2014              3943  ₹ 1.80 Lakh  \n",
       "8366  Mercedes-Benz C-Class       2011              4672  ₹ 5.50 Lakh  \n",
       "8367            Maruti Ritz       2012              4144  ₹ 1.40 Lakh  \n",
       "8368         Renault Duster       2017              5048     ₹ 5 Lakh  \n",
       "\n",
       "[8244 rows x 10 columns]"
      ]
     },
     "execution_count": 240,
     "metadata": {},
     "output_type": "execute_result"
    }
   ],
   "source": [
    "dfc"
   ]
  },
  {
   "cell_type": "code",
   "execution_count": 241,
   "metadata": {},
   "outputs": [
    {
     "name": "stderr",
     "output_type": "stream",
     "text": [
      "C:\\Users\\devli\\AppData\\Local\\Temp\\ipykernel_16556\\3095725559.py:1: SettingWithCopyWarning: \n",
      "A value is trying to be set on a copy of a slice from a DataFrame.\n",
      "Try using .loc[row_indexer,col_indexer] = value instead\n",
      "\n",
      "See the caveats in the documentation: https://pandas.pydata.org/pandas-docs/stable/user_guide/indexing.html#returning-a-view-versus-a-copy\n",
      "  dfc['price'] = dfc['price'].str.extract(r'₹\\s*([\\d.]+)\\s*Lakh').astype(float)\n"
     ]
    }
   ],
   "source": [
    "dfc['price'] = dfc['price'].str.extract(r'₹\\s*([\\d.]+)\\s*Lakh').astype(float)\n"
   ]
  },
  {
   "cell_type": "code",
   "execution_count": 242,
   "metadata": {},
   "outputs": [
    {
     "data": {
      "text/plain": [
       "0      4.00\n",
       "1      8.11\n",
       "2      5.85\n",
       "3      4.62\n",
       "4      7.90\n",
       "       ... \n",
       "8364   5.10\n",
       "8365   1.80\n",
       "8366   5.50\n",
       "8367   1.40\n",
       "8368   5.00\n",
       "Name: price, Length: 8244, dtype: float64"
      ]
     },
     "execution_count": 242,
     "metadata": {},
     "output_type": "execute_result"
    }
   ],
   "source": [
    "dfc['price']"
   ]
  },
  {
   "cell_type": "code",
   "execution_count": 243,
   "metadata": {},
   "outputs": [
    {
     "name": "stderr",
     "output_type": "stream",
     "text": [
      "C:\\Users\\devli\\AppData\\Local\\Temp\\ipykernel_16556\\3330260520.py:1: SettingWithCopyWarning: \n",
      "A value is trying to be set on a copy of a slice from a DataFrame.\n",
      "Try using .loc[row_indexer,col_indexer] = value instead\n",
      "\n",
      "See the caveats in the documentation: https://pandas.pydata.org/pandas-docs/stable/user_guide/indexing.html#returning-a-view-versus-a-copy\n",
      "  dfc['km']=dfc['km'].str.replace(',', '').astype('int64')\n"
     ]
    }
   ],
   "source": [
    "dfc['km']=dfc['km'].str.replace(',', '').astype('int64')"
   ]
  },
  {
   "cell_type": "code",
   "execution_count": 244,
   "metadata": {},
   "outputs": [
    {
     "name": "stdout",
     "output_type": "stream",
     "text": [
      "<class 'pandas.core.frame.DataFrame'>\n",
      "Index: 8244 entries, 0 to 8368\n",
      "Data columns (total 10 columns):\n",
      " #   Column            Non-Null Count  Dtype  \n",
      "---  ------            --------------  -----  \n",
      " 0   fuel_type         8244 non-null   object \n",
      " 1   style             8244 non-null   object \n",
      " 2   km                8244 non-null   int64  \n",
      " 3   transmission      8244 non-null   object \n",
      " 4   ownerNo           8244 non-null   int64  \n",
      " 5   oem               8244 non-null   object \n",
      " 6   model             8244 non-null   object \n",
      " 7   modelYear         8244 non-null   int64  \n",
      " 8   centralVariantId  8244 non-null   int64  \n",
      " 9   price             8116 non-null   float64\n",
      "dtypes: float64(1), int64(4), object(5)\n",
      "memory usage: 708.5+ KB\n"
     ]
    }
   ],
   "source": [
    "dfc.info()"
   ]
  },
  {
   "cell_type": "code",
   "execution_count": 245,
   "metadata": {},
   "outputs": [],
   "source": [
    "num=dfc.select_dtypes(include=['Int64','float64'])\n",
    "cat=dfc.select_dtypes(include=['object'])\n"
   ]
  },
  {
   "cell_type": "code",
   "execution_count": 246,
   "metadata": {},
   "outputs": [
    {
     "data": {
      "text/plain": [
       "km                 -0.08\n",
       "ownerNo            -0.13\n",
       "modelYear           0.35\n",
       "centralVariantId    0.21\n",
       "price               1.00\n",
       "dtype: float64"
      ]
     },
     "execution_count": 246,
     "metadata": {},
     "output_type": "execute_result"
    }
   ],
   "source": [
    "num.corrwith(num['price'])"
   ]
  },
  {
   "cell_type": "code",
   "execution_count": 247,
   "metadata": {},
   "outputs": [],
   "source": [
    "y=num['price']\n",
    "num = num.drop('price', axis=1)\n"
   ]
  },
  {
   "cell_type": "code",
   "execution_count": 248,
   "metadata": {},
   "outputs": [],
   "source": [
    "import pandas as pd\n",
    "from sklearn.compose import ColumnTransformer\n",
    "from sklearn.preprocessing import StandardScaler, LabelEncoder\n",
    "from sklearn.pipeline import Pipeline\n",
    "import numpy as np"
   ]
  },
  {
   "cell_type": "code",
   "execution_count": 249,
   "metadata": {},
   "outputs": [],
   "source": [
    "encoder = LabelEncoder()\n",
    "encoded=cat.apply(lambda col:encoder.fit_transform(col))"
   ]
  },
  {
   "cell_type": "code",
   "execution_count": 250,
   "metadata": {},
   "outputs": [],
   "source": [
    "scaler=StandardScaler()\n",
    "scaled=scaler.fit_transform(num)"
   ]
  },
  {
   "cell_type": "code",
   "execution_count": 251,
   "metadata": {},
   "outputs": [],
   "source": [
    "scaled=pd.DataFrame(scaled,columns=num.columns)\n",
    "encoded=pd.DataFrame(encoded)"
   ]
  },
  {
   "cell_type": "code",
   "execution_count": 252,
   "metadata": {},
   "outputs": [],
   "source": [
    "scaled.reset_index(drop=True, inplace=True)\n"
   ]
  },
  {
   "cell_type": "code",
   "execution_count": 253,
   "metadata": {},
   "outputs": [],
   "source": [
    "x=pd.concat([encoded,scaled],axis=1)"
   ]
  },
  {
   "cell_type": "code",
   "execution_count": 254,
   "metadata": {},
   "outputs": [
    {
     "data": {
      "text/plain": [
       "Index(['fuel_type', 'style', 'transmission', 'oem', 'model', 'km', 'ownerNo',\n",
       "       'modelYear', 'centralVariantId'],\n",
       "      dtype='object')"
      ]
     },
     "execution_count": 254,
     "metadata": {},
     "output_type": "execute_result"
    }
   ],
   "source": [
    "x.columns"
   ]
  },
  {
   "cell_type": "code",
   "execution_count": 255,
   "metadata": {},
   "outputs": [],
   "source": [
    "from sklearn.model_selection import train_test_split"
   ]
  },
  {
   "cell_type": "code",
   "execution_count": 256,
   "metadata": {},
   "outputs": [
    {
     "data": {
      "text/plain": [
       "(8116,)"
      ]
     },
     "execution_count": 256,
     "metadata": {},
     "output_type": "execute_result"
    }
   ],
   "source": [
    "y=y.dropna()\n",
    "y.shape"
   ]
  },
  {
   "cell_type": "code",
   "execution_count": 257,
   "metadata": {},
   "outputs": [],
   "source": [
    "x=x.dropna()\n",
    "x=x.drop([8239,8240,8241,8242,8243])\n"
   ]
  },
  {
   "cell_type": "code",
   "execution_count": 258,
   "metadata": {},
   "outputs": [
    {
     "data": {
      "text/plain": [
       "(8116, 9)"
      ]
     },
     "execution_count": 258,
     "metadata": {},
     "output_type": "execute_result"
    }
   ],
   "source": [
    "x.shape"
   ]
  },
  {
   "cell_type": "code",
   "execution_count": 259,
   "metadata": {},
   "outputs": [],
   "source": [
    "x_train, x_test, y_train, y_test = train_test_split(x, y, test_size=0.2, random_state=42)\n"
   ]
  },
  {
   "cell_type": "code",
   "execution_count": 266,
   "metadata": {},
   "outputs": [],
   "source": [
    "from sklearn.metrics import mean_squared_error, r2_score\n",
    "from sklearn.linear_model import LinearRegression\n",
    "from sklearn.ensemble import RandomForestRegressor"
   ]
  },
  {
   "cell_type": "code",
   "execution_count": 269,
   "metadata": {},
   "outputs": [
    {
     "name": "stdout",
     "output_type": "stream",
     "text": [
      "Linear Regression Mean Squared Error: 116.12624876340467\n"
     ]
    },
    {
     "data": {
      "text/plain": [
       "0.014090467884162683"
      ]
     },
     "execution_count": 269,
     "metadata": {},
     "output_type": "execute_result"
    }
   ],
   "source": [
    "linear_model = LinearRegression()\n",
    "linear_model.fit(x_train, y_train)\n",
    "y_pred = linear_model.predict(x_test)\n",
    "linear_mse = mean_squared_error(y_test, y_pred)\n",
    "print(f'Linear Regression Mean Squared Error: {linear_mse}')\n",
    "r2 = r2_score(y_test, y_pred)\n",
    "r2"
   ]
  },
  {
   "cell_type": "code",
   "execution_count": 270,
   "metadata": {},
   "outputs": [
    {
     "data": {
      "text/html": [
       "<style>#sk-container-id-2 {color: black;}#sk-container-id-2 pre{padding: 0;}#sk-container-id-2 div.sk-toggleable {background-color: white;}#sk-container-id-2 label.sk-toggleable__label {cursor: pointer;display: block;width: 100%;margin-bottom: 0;padding: 0.3em;box-sizing: border-box;text-align: center;}#sk-container-id-2 label.sk-toggleable__label-arrow:before {content: \"▸\";float: left;margin-right: 0.25em;color: #696969;}#sk-container-id-2 label.sk-toggleable__label-arrow:hover:before {color: black;}#sk-container-id-2 div.sk-estimator:hover label.sk-toggleable__label-arrow:before {color: black;}#sk-container-id-2 div.sk-toggleable__content {max-height: 0;max-width: 0;overflow: hidden;text-align: left;background-color: #f0f8ff;}#sk-container-id-2 div.sk-toggleable__content pre {margin: 0.2em;color: black;border-radius: 0.25em;background-color: #f0f8ff;}#sk-container-id-2 input.sk-toggleable__control:checked~div.sk-toggleable__content {max-height: 200px;max-width: 100%;overflow: auto;}#sk-container-id-2 input.sk-toggleable__control:checked~label.sk-toggleable__label-arrow:before {content: \"▾\";}#sk-container-id-2 div.sk-estimator input.sk-toggleable__control:checked~label.sk-toggleable__label {background-color: #d4ebff;}#sk-container-id-2 div.sk-label input.sk-toggleable__control:checked~label.sk-toggleable__label {background-color: #d4ebff;}#sk-container-id-2 input.sk-hidden--visually {border: 0;clip: rect(1px 1px 1px 1px);clip: rect(1px, 1px, 1px, 1px);height: 1px;margin: -1px;overflow: hidden;padding: 0;position: absolute;width: 1px;}#sk-container-id-2 div.sk-estimator {font-family: monospace;background-color: #f0f8ff;border: 1px dotted black;border-radius: 0.25em;box-sizing: border-box;margin-bottom: 0.5em;}#sk-container-id-2 div.sk-estimator:hover {background-color: #d4ebff;}#sk-container-id-2 div.sk-parallel-item::after {content: \"\";width: 100%;border-bottom: 1px solid gray;flex-grow: 1;}#sk-container-id-2 div.sk-label:hover label.sk-toggleable__label {background-color: #d4ebff;}#sk-container-id-2 div.sk-serial::before {content: \"\";position: absolute;border-left: 1px solid gray;box-sizing: border-box;top: 0;bottom: 0;left: 50%;z-index: 0;}#sk-container-id-2 div.sk-serial {display: flex;flex-direction: column;align-items: center;background-color: white;padding-right: 0.2em;padding-left: 0.2em;position: relative;}#sk-container-id-2 div.sk-item {position: relative;z-index: 1;}#sk-container-id-2 div.sk-parallel {display: flex;align-items: stretch;justify-content: center;background-color: white;position: relative;}#sk-container-id-2 div.sk-item::before, #sk-container-id-2 div.sk-parallel-item::before {content: \"\";position: absolute;border-left: 1px solid gray;box-sizing: border-box;top: 0;bottom: 0;left: 50%;z-index: -1;}#sk-container-id-2 div.sk-parallel-item {display: flex;flex-direction: column;z-index: 1;position: relative;background-color: white;}#sk-container-id-2 div.sk-parallel-item:first-child::after {align-self: flex-end;width: 50%;}#sk-container-id-2 div.sk-parallel-item:last-child::after {align-self: flex-start;width: 50%;}#sk-container-id-2 div.sk-parallel-item:only-child::after {width: 0;}#sk-container-id-2 div.sk-dashed-wrapped {border: 1px dashed gray;margin: 0 0.4em 0.5em 0.4em;box-sizing: border-box;padding-bottom: 0.4em;background-color: white;}#sk-container-id-2 div.sk-label label {font-family: monospace;font-weight: bold;display: inline-block;line-height: 1.2em;}#sk-container-id-2 div.sk-label-container {text-align: center;}#sk-container-id-2 div.sk-container {/* jupyter's `normalize.less` sets `[hidden] { display: none; }` but bootstrap.min.css set `[hidden] { display: none !important; }` so we also need the `!important` here to be able to override the default hidden behavior on the sphinx rendered scikit-learn.org. See: https://github.com/scikit-learn/scikit-learn/issues/21755 */display: inline-block !important;position: relative;}#sk-container-id-2 div.sk-text-repr-fallback {display: none;}</style><div id=\"sk-container-id-2\" class=\"sk-top-container\"><div class=\"sk-text-repr-fallback\"><pre>RandomForestRegressor(n_estimators=1000, random_state=42)</pre><b>In a Jupyter environment, please rerun this cell to show the HTML representation or trust the notebook. <br />On GitHub, the HTML representation is unable to render, please try loading this page with nbviewer.org.</b></div><div class=\"sk-container\" hidden><div class=\"sk-item\"><div class=\"sk-estimator sk-toggleable\"><input class=\"sk-toggleable__control sk-hidden--visually\" id=\"sk-estimator-id-2\" type=\"checkbox\" checked><label for=\"sk-estimator-id-2\" class=\"sk-toggleable__label sk-toggleable__label-arrow\">RandomForestRegressor</label><div class=\"sk-toggleable__content\"><pre>RandomForestRegressor(n_estimators=1000, random_state=42)</pre></div></div></div></div></div>"
      ],
      "text/plain": [
       "RandomForestRegressor(n_estimators=1000, random_state=42)"
      ]
     },
     "execution_count": 270,
     "metadata": {},
     "output_type": "execute_result"
    }
   ],
   "source": [
    "rf_regressor = RandomForestRegressor(n_estimators=1000, random_state=42)\n",
    "\n",
    "# Fit the model on the training data\n",
    "rf_regressor.fit(x_train, y_train)\n"
   ]
  },
  {
   "cell_type": "code",
   "execution_count": 271,
   "metadata": {},
   "outputs": [],
   "source": [
    "y_pred = rf_regressor.predict(x_test)\n"
   ]
  },
  {
   "cell_type": "code",
   "execution_count": 272,
   "metadata": {},
   "outputs": [],
   "source": [
    "mse = mean_squared_error(y_test, y_pred)\n",
    "r2 = r2_score(y_test, y_pred)"
   ]
  },
  {
   "cell_type": "code",
   "execution_count": 273,
   "metadata": {},
   "outputs": [
    {
     "name": "stdout",
     "output_type": "stream",
     "text": [
      "Mean Squared Error: 126.27294543307947\n",
      "R-squared: -0.07205478413807342\n"
     ]
    }
   ],
   "source": [
    "print(f'Mean Squared Error: {mse}')\n",
    "print(f'R-squared: {r2}')"
   ]
  }
 ],
 "metadata": {
  "kernelspec": {
   "display_name": "base",
   "language": "python",
   "name": "python3"
  },
  "language_info": {
   "codemirror_mode": {
    "name": "ipython",
    "version": 3
   },
   "file_extension": ".py",
   "mimetype": "text/x-python",
   "name": "python",
   "nbconvert_exporter": "python",
   "pygments_lexer": "ipython3",
   "version": "3.11.5"
  }
 },
 "nbformat": 4,
 "nbformat_minor": 2
}
